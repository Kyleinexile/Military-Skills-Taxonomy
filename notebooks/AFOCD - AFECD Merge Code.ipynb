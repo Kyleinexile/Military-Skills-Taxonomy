{
 "cells": [
  {
   "cell_type": "code",
   "execution_count": 3,
   "id": "7384119d",
   "metadata": {},
   "outputs": [
    {
     "name": "stdout",
     "output_type": "stream",
     "text": [
      "✅ Parsed 305 AFSC entries\n"
     ]
    },
    {
     "data": {
      "text/html": [
       "<div>\n",
       "<style scoped>\n",
       "    .dataframe tbody tr th:only-of-type {\n",
       "        vertical-align: middle;\n",
       "    }\n",
       "\n",
       "    .dataframe tbody tr th {\n",
       "        vertical-align: top;\n",
       "    }\n",
       "\n",
       "    .dataframe thead th {\n",
       "        text-align: right;\n",
       "    }\n",
       "</style>\n",
       "<table border=\"1\" class=\"dataframe\">\n",
       "  <thead>\n",
       "    <tr style=\"text-align: right;\">\n",
       "      <th></th>\n",
       "      <th>AFSC_Code</th>\n",
       "      <th>description</th>\n",
       "    </tr>\n",
       "  </thead>\n",
       "  <tbody>\n",
       "    <tr>\n",
       "      <th>0</th>\n",
       "      <td>AFSC 10C0</td>\n",
       "      <td>OPERATIONS COMMANDER\\n(Changed 31 Oct 08)\\n1. ...</td>\n",
       "    </tr>\n",
       "    <tr>\n",
       "      <th>1</th>\n",
       "      <td>AFSC 10C0, completion of a current T5 Investig...</td>\n",
       "      <td>32\\nDAFOCD, 31 Oct 24\\nPILOT UTILIZATION FIELD...</td>\n",
       "    </tr>\n",
       "    <tr>\n",
       "      <th>2</th>\n",
       "      <td>AFSC 11B1*, Entry/Student</td>\n",
       "      <td>BOMBER PILOT\\n(Changed 30 Apr 23)\\n1. Specialt...</td>\n",
       "    </tr>\n",
       "  </tbody>\n",
       "</table>\n",
       "</div>"
      ],
      "text/plain": [
       "                                           AFSC_Code  \\\n",
       "0                                          AFSC 10C0   \n",
       "1  AFSC 10C0, completion of a current T5 Investig...   \n",
       "2                          AFSC 11B1*, Entry/Student   \n",
       "\n",
       "                                         description  \n",
       "0  OPERATIONS COMMANDER\\n(Changed 31 Oct 08)\\n1. ...  \n",
       "1  32\\nDAFOCD, 31 Oct 24\\nPILOT UTILIZATION FIELD...  \n",
       "2  BOMBER PILOT\\n(Changed 30 Apr 23)\\n1. Specialt...  "
      ]
     },
     "metadata": {},
     "output_type": "display_data"
    },
    {
     "name": "stdout",
     "output_type": "stream",
     "text": [
      "📄 Saved cleaned file → C:\\Users\\Kyle\\Desktop\\Grad School\\IS Demo\\Phase 2 Rebuild\\Phase 3\\afsc_clean.csv\n"
     ]
    }
   ],
   "source": [
    "import re, pandas as pd, pathlib\n",
    "\n",
    "# 🔧―― 1.  Point to your two source CSVs\n",
    "base   = pathlib.Path(r\"C:\\Users\\Kyle\\Desktop\\Grad School\\IS Demo\\Phase 2 Rebuild\\Phase 3\")\n",
    "files  = [base / \"DAFOCD-31-Oct-24.csv\",   # officer\n",
    "          base / \"DAFECD-31-Oct-24.csv\"]   # enlisted\n",
    "\n",
    "def parse_afsc_csv(path: pathlib.Path) -> pd.DataFrame:\n",
    "    \"\"\"\n",
    "    Read a PDF‑to‑CSV dump (one line per row) and return a tidy dataframe\n",
    "    with columns [AFSC_Code, description].\n",
    "    \"\"\"\n",
    "    # Read as single text column (no header)\n",
    "    raw = pd.read_csv(path, header=None, dtype=str, encoding=\"utf‑8\", na_filter=False)[0].str.strip()\n",
    "\n",
    "    # Pattern that marks the *start* of a new block\n",
    "    start_pat = re.compile(r\"^(?:AFSC\\s|CEM\\sCode\\s)\", re.I)\n",
    "\n",
    "    blocks, cur_code, buf = {}, None, []\n",
    "    for line in raw:\n",
    "        if start_pat.match(line):\n",
    "            if cur_code and buf:\n",
    "                blocks[cur_code] = \"\\n\".join(buf).strip()\n",
    "            cur_code, buf = line, []           # new block\n",
    "        else:\n",
    "            buf.append(line)\n",
    "    # flush last block\n",
    "    if cur_code and buf:\n",
    "        blocks[cur_code] = \"\\n\".join(buf).strip()\n",
    "\n",
    "    df = pd.DataFrame({\n",
    "        \"AFSC_Code\": list(blocks.keys()),\n",
    "        \"description\": list(blocks.values())\n",
    "    })\n",
    "    return df\n",
    "\n",
    "# 🔧―― 2.  Parse & merge\n",
    "all_df = pd.concat([parse_afsc_csv(p) for p in files], ignore_index=True)\n",
    "all_df = all_df[all_df[\"description\"].str.len() > 0]      # drop empties\n",
    "\n",
    "print(f\"✅ Parsed {len(all_df):,} AFSC entries\")\n",
    "display(all_df.head(3))\n",
    "\n",
    "# 🔧―― 3.  Save cleaned dataset next to originals\n",
    "out_path = base / \"afsc_clean.csv\"\n",
    "all_df.to_csv(out_path, index=False, encoding=\"utf‑8\")\n",
    "print(\"📄 Saved cleaned file →\", out_path)\n"
   ]
  }
 ],
 "metadata": {
  "kernelspec": {
   "display_name": "laiser_env",
   "language": "python",
   "name": "python3"
  },
  "language_info": {
   "codemirror_mode": {
    "name": "ipython",
    "version": 3
   },
   "file_extension": ".py",
   "mimetype": "text/x-python",
   "name": "python",
   "nbconvert_exporter": "python",
   "pygments_lexer": "ipython3",
   "version": "3.12.9"
  }
 },
 "nbformat": 4,
 "nbformat_minor": 5
}
